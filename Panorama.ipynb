{
 "cells": [
  {
   "cell_type": "code",
   "execution_count": 75,
   "id": "6cea0184",
   "metadata": {},
   "outputs": [],
   "source": [
    "#import the necessary libraries\n",
    "import pandas as pd\n",
    "import numpy as np\n",
    "\n",
    "import matplotlib.pyplot as plt\n",
    "import seaborn as sns"
   ]
  },
  {
   "cell_type": "code",
   "execution_count": 76,
   "id": "70f6f72d",
   "metadata": {},
   "outputs": [
    {
     "data": {
      "text/html": [
       "<div>\n",
       "<style scoped>\n",
       "    .dataframe tbody tr th:only-of-type {\n",
       "        vertical-align: middle;\n",
       "    }\n",
       "\n",
       "    .dataframe tbody tr th {\n",
       "        vertical-align: top;\n",
       "    }\n",
       "\n",
       "    .dataframe thead th {\n",
       "        text-align: right;\n",
       "    }\n",
       "</style>\n",
       "<table border=\"1\" class=\"dataframe\">\n",
       "  <thead>\n",
       "    <tr style=\"text-align: right;\">\n",
       "      <th></th>\n",
       "      <th>Name</th>\n",
       "      <th>Price</th>\n",
       "      <th>Body.Location</th>\n",
       "      <th>Category</th>\n",
       "      <th>Company.Name</th>\n",
       "      <th>Company.URL</th>\n",
       "      <th>Company...Mapping.Location</th>\n",
       "      <th>Company...City</th>\n",
       "      <th>Company...U.S..State</th>\n",
       "      <th>Company...Country</th>\n",
       "      <th>Source</th>\n",
       "      <th>Link</th>\n",
       "      <th>Duplicates.note.1</th>\n",
       "      <th>id</th>\n",
       "      <th>Image</th>\n",
       "    </tr>\n",
       "  </thead>\n",
       "  <tbody>\n",
       "    <tr>\n",
       "      <th>0</th>\n",
       "      <td>Barska GB12166 Fitness Watch with Heart Rate M...</td>\n",
       "      <td>$49.99</td>\n",
       "      <td>Wrist</td>\n",
       "      <td>Fitness</td>\n",
       "      <td>Barska</td>\n",
       "      <td>http://www.barska.com/</td>\n",
       "      <td>Pomona, California, United States</td>\n",
       "      <td>Pomona</td>\n",
       "      <td>California</td>\n",
       "      <td>United States</td>\n",
       "      <td>Google Results</td>\n",
       "      <td>https://www.google.com/shopping/product/104462...</td>\n",
       "      <td>NaN</td>\n",
       "      <td>200</td>\n",
       "      <td>data:image/jpeg;base64,/9j/4AAQSkZJRgABAQAAAQA...</td>\n",
       "    </tr>\n",
       "    <tr>\n",
       "      <th>1</th>\n",
       "      <td>Belkin GS5 Sport Fit Armband, Black F8M918B1C00</td>\n",
       "      <td>$24.99</td>\n",
       "      <td>Arms</td>\n",
       "      <td>Fitness</td>\n",
       "      <td>Belkin</td>\n",
       "      <td>http://www.belkin.com/</td>\n",
       "      <td>Playa Vista, California, United States</td>\n",
       "      <td>Playa Vista</td>\n",
       "      <td>California</td>\n",
       "      <td>United States</td>\n",
       "      <td>Google Results</td>\n",
       "      <td>https://www.google.com/shopping/product/532655...</td>\n",
       "      <td>NaN</td>\n",
       "      <td>129</td>\n",
       "      <td>data:image/jpeg;base64,/9j/4AAQSkZJRgABAQAAAQA...</td>\n",
       "    </tr>\n",
       "    <tr>\n",
       "      <th>2</th>\n",
       "      <td>Bowflex EZ Pro Strapless Heart Rate Monitor Wa...</td>\n",
       "      <td>$12.99</td>\n",
       "      <td>Wrist</td>\n",
       "      <td>Medical</td>\n",
       "      <td>Bowflex</td>\n",
       "      <td>http://www.bowflex.com/</td>\n",
       "      <td>Vancouver, Washington, United States</td>\n",
       "      <td>Vancouver</td>\n",
       "      <td>Washington</td>\n",
       "      <td>United States</td>\n",
       "      <td>Google Results</td>\n",
       "      <td>https://www.google.com/shopping/product/147942...</td>\n",
       "      <td>NaN</td>\n",
       "      <td>284</td>\n",
       "      <td>data:image/jpeg;base64,/9j/4AAQSkZJRgABAQAAAQA...</td>\n",
       "    </tr>\n",
       "    <tr>\n",
       "      <th>3</th>\n",
       "      <td>Casio G Shock Watch Solar Atom (gwm500a-1)</td>\n",
       "      <td>$67.62</td>\n",
       "      <td>Wrist</td>\n",
       "      <td>Lifestyle</td>\n",
       "      <td>Casio</td>\n",
       "      <td>http://www.casio.com</td>\n",
       "      <td>Tokyo, Japan</td>\n",
       "      <td>Tokyo</td>\n",
       "      <td>NaN</td>\n",
       "      <td>Japan</td>\n",
       "      <td>Google Results</td>\n",
       "      <td>https://www.google.com/shopping/product/393252...</td>\n",
       "      <td>NaN</td>\n",
       "      <td>145</td>\n",
       "      <td>data:image/jpeg;base64,/9j/4AAQSkZJRgABAQAAAQA...</td>\n",
       "    </tr>\n",
       "    <tr>\n",
       "      <th>4</th>\n",
       "      <td>Casio WS220 Solar Runner Digital Wrist Watch; ...</td>\n",
       "      <td>$39.99</td>\n",
       "      <td>Wrist</td>\n",
       "      <td>Lifestyle</td>\n",
       "      <td>Casio</td>\n",
       "      <td>http://www.casio.com</td>\n",
       "      <td>Tokyo, Japan</td>\n",
       "      <td>Tokyo</td>\n",
       "      <td>NaN</td>\n",
       "      <td>Japan</td>\n",
       "      <td>Google Results</td>\n",
       "      <td>https://www.google.com/shopping/product/316195...</td>\n",
       "      <td>NaN</td>\n",
       "      <td>177</td>\n",
       "      <td>data:image/jpeg;base64,/9j/4AAQSkZJRgABAQAAAQA...</td>\n",
       "    </tr>\n",
       "    <tr>\n",
       "      <th>...</th>\n",
       "      <td>...</td>\n",
       "      <td>...</td>\n",
       "      <td>...</td>\n",
       "      <td>...</td>\n",
       "      <td>...</td>\n",
       "      <td>...</td>\n",
       "      <td>...</td>\n",
       "      <td>...</td>\n",
       "      <td>...</td>\n",
       "      <td>...</td>\n",
       "      <td>...</td>\n",
       "      <td>...</td>\n",
       "      <td>...</td>\n",
       "      <td>...</td>\n",
       "      <td>...</td>\n",
       "    </tr>\n",
       "    <tr>\n",
       "      <th>577</th>\n",
       "      <td>X-doria KidFit / Health and Fitness - Blue</td>\n",
       "      <td>$39</td>\n",
       "      <td>Wrist</td>\n",
       "      <td>Fitness</td>\n",
       "      <td>X-Doria</td>\n",
       "      <td>http://shop.x-doria.com/</td>\n",
       "      <td>Los Angeles, California, United States</td>\n",
       "      <td>Los Angeles</td>\n",
       "      <td>California</td>\n",
       "      <td>United States</td>\n",
       "      <td>Google Results</td>\n",
       "      <td>https://www.google.com/shopping/product/536130...</td>\n",
       "      <td>NaN</td>\n",
       "      <td>406</td>\n",
       "      <td>data:image/jpeg;base64,/9j/4AAQSkZJRgABAQAAAQA...</td>\n",
       "    </tr>\n",
       "    <tr>\n",
       "      <th>578</th>\n",
       "      <td>Yes Watch KUNDALINI WTCH w/MIRROR POLISH FINSH</td>\n",
       "      <td>$850</td>\n",
       "      <td>Wrist</td>\n",
       "      <td>Lifestyle</td>\n",
       "      <td>Yes</td>\n",
       "      <td>http://www.yeswatch.com/</td>\n",
       "      <td>La Jolla, California, United States</td>\n",
       "      <td>La Jolla</td>\n",
       "      <td>California</td>\n",
       "      <td>United States</td>\n",
       "      <td>Google Results</td>\n",
       "      <td>http://www.google.com/aclk?sa=l&amp;ai=C-jKZfA92VL...</td>\n",
       "      <td>NaN</td>\n",
       "      <td>555</td>\n",
       "      <td>data:image/jpeg;base64,/9j/4AAQSkZJRgABAQAAAQA...</td>\n",
       "    </tr>\n",
       "    <tr>\n",
       "      <th>579</th>\n",
       "      <td>YOO1 Activity Tracker with Trackit Jacket, Ras...</td>\n",
       "      <td>$24.99</td>\n",
       "      <td>Waist</td>\n",
       "      <td>Lifestyle</td>\n",
       "      <td>Yoo</td>\n",
       "      <td>http://www.yoochallenge.com/</td>\n",
       "      <td>Ridgefield, Connecticut, United States</td>\n",
       "      <td>Ridgefield</td>\n",
       "      <td>Connecticut</td>\n",
       "      <td>United States</td>\n",
       "      <td>Google Results</td>\n",
       "      <td>https://www.google.com/shopping/product/390577...</td>\n",
       "      <td>NaN</td>\n",
       "      <td>365</td>\n",
       "      <td>data:image/jpeg;base64,/9j/4AAQSkZJRgABAQAAAQA...</td>\n",
       "    </tr>\n",
       "    <tr>\n",
       "      <th>580</th>\n",
       "      <td>Zepp Golf 3D Swing Analyzer</td>\n",
       "      <td>NaN</td>\n",
       "      <td>Hands</td>\n",
       "      <td>Gaming</td>\n",
       "      <td>Zepp</td>\n",
       "      <td>http://www.zepp.com/</td>\n",
       "      <td>Los Gatos, California, United States</td>\n",
       "      <td>Los Gatos</td>\n",
       "      <td>California</td>\n",
       "      <td>United States</td>\n",
       "      <td>Amazon</td>\n",
       "      <td>http://www.amazon.com/Zepp-Golf-3D-Swing-Analy...</td>\n",
       "      <td>NaN</td>\n",
       "      <td>176</td>\n",
       "      <td>http://ecx.images-amazon.com/images/I/41-xwy5M...</td>\n",
       "    </tr>\n",
       "    <tr>\n",
       "      <th>581</th>\n",
       "      <td>Zoombak ZMBK346 Advanced GPS Universal Locator</td>\n",
       "      <td>NaN</td>\n",
       "      <td>Waist</td>\n",
       "      <td>Lifestyle</td>\n",
       "      <td>Zoombak</td>\n",
       "      <td>http://www.securusgps.com/zoombak.aspx</td>\n",
       "      <td>Cary, North Carolina, United States</td>\n",
       "      <td>Cary</td>\n",
       "      <td>North Carolina</td>\n",
       "      <td>United States</td>\n",
       "      <td>Amazon</td>\n",
       "      <td>http://www.amazon.com/Zoombak-ZMBK346-Advanced...</td>\n",
       "      <td>NaN</td>\n",
       "      <td>143</td>\n",
       "      <td>http://ecx.images-amazon.com/images/I/416a2g5z...</td>\n",
       "    </tr>\n",
       "  </tbody>\n",
       "</table>\n",
       "<p>582 rows × 15 columns</p>\n",
       "</div>"
      ],
      "text/plain": [
       "                                                  Name    Price Body.Location  \\\n",
       "0    Barska GB12166 Fitness Watch with Heart Rate M...  $49.99          Wrist   \n",
       "1      Belkin GS5 Sport Fit Armband, Black F8M918B1C00  $24.99           Arms   \n",
       "2    Bowflex EZ Pro Strapless Heart Rate Monitor Wa...  $12.99          Wrist   \n",
       "3           Casio G Shock Watch Solar Atom (gwm500a-1)  $67.62          Wrist   \n",
       "4    Casio WS220 Solar Runner Digital Wrist Watch; ...  $39.99          Wrist   \n",
       "..                                                 ...      ...           ...   \n",
       "577         X-doria KidFit / Health and Fitness - Blue     $39          Wrist   \n",
       "578     Yes Watch KUNDALINI WTCH w/MIRROR POLISH FINSH    $850          Wrist   \n",
       "579  YOO1 Activity Tracker with Trackit Jacket, Ras...  $24.99          Waist   \n",
       "580                        Zepp Golf 3D Swing Analyzer      NaN         Hands   \n",
       "581     Zoombak ZMBK346 Advanced GPS Universal Locator      NaN         Waist   \n",
       "\n",
       "      Category Company.Name                             Company.URL  \\\n",
       "0      Fitness       Barska                  http://www.barska.com/   \n",
       "1      Fitness       Belkin                  http://www.belkin.com/   \n",
       "2      Medical      Bowflex                 http://www.bowflex.com/   \n",
       "3    Lifestyle        Casio                    http://www.casio.com   \n",
       "4    Lifestyle        Casio                    http://www.casio.com   \n",
       "..         ...          ...                                     ...   \n",
       "577    Fitness      X-Doria                http://shop.x-doria.com/   \n",
       "578  Lifestyle          Yes                http://www.yeswatch.com/   \n",
       "579  Lifestyle          Yoo            http://www.yoochallenge.com/   \n",
       "580     Gaming         Zepp                    http://www.zepp.com/   \n",
       "581  Lifestyle      Zoombak  http://www.securusgps.com/zoombak.aspx   \n",
       "\n",
       "                 Company...Mapping.Location Company...City  \\\n",
       "0         Pomona, California, United States         Pomona   \n",
       "1    Playa Vista, California, United States    Playa Vista   \n",
       "2      Vancouver, Washington, United States      Vancouver   \n",
       "3                              Tokyo, Japan          Tokyo   \n",
       "4                              Tokyo, Japan          Tokyo   \n",
       "..                                      ...            ...   \n",
       "577  Los Angeles, California, United States    Los Angeles   \n",
       "578     La Jolla, California, United States       La Jolla   \n",
       "579  Ridgefield, Connecticut, United States     Ridgefield   \n",
       "580    Los Gatos, California, United States      Los Gatos   \n",
       "581     Cary, North Carolina, United States           Cary   \n",
       "\n",
       "    Company...U.S..State Company...Country          Source  \\\n",
       "0             California     United States  Google Results   \n",
       "1             California     United States  Google Results   \n",
       "2             Washington     United States  Google Results   \n",
       "3                    NaN             Japan  Google Results   \n",
       "4                    NaN             Japan  Google Results   \n",
       "..                   ...               ...             ...   \n",
       "577           California     United States  Google Results   \n",
       "578           California     United States  Google Results   \n",
       "579          Connecticut     United States  Google Results   \n",
       "580           California     United States          Amazon   \n",
       "581       North Carolina     United States          Amazon   \n",
       "\n",
       "                                                  Link  Duplicates.note.1  \\\n",
       "0    https://www.google.com/shopping/product/104462...                NaN   \n",
       "1    https://www.google.com/shopping/product/532655...                NaN   \n",
       "2    https://www.google.com/shopping/product/147942...                NaN   \n",
       "3    https://www.google.com/shopping/product/393252...                NaN   \n",
       "4    https://www.google.com/shopping/product/316195...                NaN   \n",
       "..                                                 ...                ...   \n",
       "577  https://www.google.com/shopping/product/536130...                NaN   \n",
       "578  http://www.google.com/aclk?sa=l&ai=C-jKZfA92VL...                NaN   \n",
       "579  https://www.google.com/shopping/product/390577...                NaN   \n",
       "580  http://www.amazon.com/Zepp-Golf-3D-Swing-Analy...                NaN   \n",
       "581  http://www.amazon.com/Zoombak-ZMBK346-Advanced...                NaN   \n",
       "\n",
       "      id                                              Image  \n",
       "0    200  data:image/jpeg;base64,/9j/4AAQSkZJRgABAQAAAQA...  \n",
       "1    129  data:image/jpeg;base64,/9j/4AAQSkZJRgABAQAAAQA...  \n",
       "2    284  data:image/jpeg;base64,/9j/4AAQSkZJRgABAQAAAQA...  \n",
       "3    145  data:image/jpeg;base64,/9j/4AAQSkZJRgABAQAAAQA...  \n",
       "4    177  data:image/jpeg;base64,/9j/4AAQSkZJRgABAQAAAQA...  \n",
       "..   ...                                                ...  \n",
       "577  406  data:image/jpeg;base64,/9j/4AAQSkZJRgABAQAAAQA...  \n",
       "578  555  data:image/jpeg;base64,/9j/4AAQSkZJRgABAQAAAQA...  \n",
       "579  365  data:image/jpeg;base64,/9j/4AAQSkZJRgABAQAAAQA...  \n",
       "580  176  http://ecx.images-amazon.com/images/I/41-xwy5M...  \n",
       "581  143  http://ecx.images-amazon.com/images/I/416a2g5z...  \n",
       "\n",
       "[582 rows x 15 columns]"
      ]
     },
     "execution_count": 76,
     "metadata": {},
     "output_type": "execute_result"
    }
   ],
   "source": [
    "# Load the dataset and set the 'encoding' parameter to 'latin-1',\n",
    "df = pd.read_csv(\"Wearables-DFE.csv\",encoding='latin-1')\n",
    "df"
   ]
  },
  {
   "cell_type": "code",
   "execution_count": 73,
   "id": "0a948376",
   "metadata": {},
   "outputs": [],
   "source": [
    "df.rename(columns = {'Company...Mapping.Location':'Company.Mapping.Location', 'Company...City':'Company.City','Company...U.S..State':'Company.U.S.State','Company...Country':'Company.Country'}, inplace = True)"
   ]
  },
  {
   "cell_type": "code",
   "execution_count": 77,
   "id": "7b56e92e",
   "metadata": {},
   "outputs": [
    {
     "data": {
      "text/plain": [
       "Index(['Name', 'Price', 'Body.Location', 'Category', 'Company.Name',\n",
       "       'Company.URL', 'Company...Mapping.Location', 'Company...City',\n",
       "       'Company...U.S..State', 'Company...Country', 'Source', 'Link',\n",
       "       'Duplicates.note.1', 'id', 'Image'],\n",
       "      dtype='object')"
      ]
     },
     "execution_count": 77,
     "metadata": {},
     "output_type": "execute_result"
    }
   ],
   "source": [
    "df.columns"
   ]
  },
  {
   "cell_type": "markdown",
   "id": "c0b4fb0d",
   "metadata": {},
   "source": [
    "## Exploratory Data Analysis"
   ]
  },
  {
   "cell_type": "code",
   "execution_count": 78,
   "id": "e61756a5",
   "metadata": {},
   "outputs": [
    {
     "data": {
      "text/plain": [
       "Name                            0\n",
       "Price                         212\n",
       "Body.Location                   0\n",
       "Category                       11\n",
       "Company.Name                    8\n",
       "Company.URL                    13\n",
       "Company...Mapping.Location      2\n",
       "Company...City                  2\n",
       "Company...U.S..State          167\n",
       "Company...Country              13\n",
       "Source                          0\n",
       "Link                            0\n",
       "Duplicates.note.1             582\n",
       "id                              0\n",
       "Image                           0\n",
       "dtype: int64"
      ]
     },
     "execution_count": 78,
     "metadata": {},
     "output_type": "execute_result"
    }
   ],
   "source": [
    "#check for null values\n",
    "df.isna().sum()"
   ]
  },
  {
   "cell_type": "code",
   "execution_count": 7,
   "id": "6cc45c52",
   "metadata": {},
   "outputs": [
    {
     "data": {
      "text/html": [
       "<div>\n",
       "<style scoped>\n",
       "    .dataframe tbody tr th:only-of-type {\n",
       "        vertical-align: middle;\n",
       "    }\n",
       "\n",
       "    .dataframe tbody tr th {\n",
       "        vertical-align: top;\n",
       "    }\n",
       "\n",
       "    .dataframe thead th {\n",
       "        text-align: right;\n",
       "    }\n",
       "</style>\n",
       "<table border=\"1\" class=\"dataframe\">\n",
       "  <thead>\n",
       "    <tr style=\"text-align: right;\">\n",
       "      <th></th>\n",
       "      <th>Name</th>\n",
       "      <th>Price</th>\n",
       "      <th>Body.Location</th>\n",
       "      <th>Category</th>\n",
       "      <th>Company.Name</th>\n",
       "      <th>Company.URL</th>\n",
       "      <th>Company...Mapping.Location</th>\n",
       "      <th>Company...City</th>\n",
       "      <th>Company...U.S..State</th>\n",
       "      <th>Company...Country</th>\n",
       "      <th>Source</th>\n",
       "      <th>Link</th>\n",
       "      <th>Image</th>\n",
       "    </tr>\n",
       "  </thead>\n",
       "  <tbody>\n",
       "    <tr>\n",
       "      <th>count</th>\n",
       "      <td>582</td>\n",
       "      <td>370</td>\n",
       "      <td>582</td>\n",
       "      <td>571</td>\n",
       "      <td>574</td>\n",
       "      <td>569</td>\n",
       "      <td>580</td>\n",
       "      <td>580</td>\n",
       "      <td>415</td>\n",
       "      <td>569</td>\n",
       "      <td>582</td>\n",
       "      <td>582</td>\n",
       "      <td>582</td>\n",
       "    </tr>\n",
       "    <tr>\n",
       "      <th>unique</th>\n",
       "      <td>582</td>\n",
       "      <td>217</td>\n",
       "      <td>9</td>\n",
       "      <td>8</td>\n",
       "      <td>145</td>\n",
       "      <td>142</td>\n",
       "      <td>108</td>\n",
       "      <td>107</td>\n",
       "      <td>22</td>\n",
       "      <td>14</td>\n",
       "      <td>2</td>\n",
       "      <td>582</td>\n",
       "      <td>564</td>\n",
       "    </tr>\n",
       "    <tr>\n",
       "      <th>top</th>\n",
       "      <td>Barska GB12166 Fitness Watch with Heart Rate M...</td>\n",
       "      <td>$99.99</td>\n",
       "      <td>Wrist</td>\n",
       "      <td>Fitness</td>\n",
       "      <td>Garmin</td>\n",
       "      <td>http://www.garmin.com/</td>\n",
       "      <td>Olathe, Kansas, United States</td>\n",
       "      <td>Olathe</td>\n",
       "      <td>California</td>\n",
       "      <td>United States</td>\n",
       "      <td>Google Results</td>\n",
       "      <td>https://www.google.com/shopping/product/104462...</td>\n",
       "      <td>data:image/jpeg;base64,/9j/4AAQSkZJRgABAQAAAQA...</td>\n",
       "    </tr>\n",
       "    <tr>\n",
       "      <th>freq</th>\n",
       "      <td>1</td>\n",
       "      <td>16</td>\n",
       "      <td>345</td>\n",
       "      <td>215</td>\n",
       "      <td>65</td>\n",
       "      <td>65</td>\n",
       "      <td>65</td>\n",
       "      <td>65</td>\n",
       "      <td>152</td>\n",
       "      <td>415</td>\n",
       "      <td>370</td>\n",
       "      <td>1</td>\n",
       "      <td>3</td>\n",
       "    </tr>\n",
       "  </tbody>\n",
       "</table>\n",
       "</div>"
      ],
      "text/plain": [
       "                                                     Name    Price  \\\n",
       "count                                                 582      370   \n",
       "unique                                                582      217   \n",
       "top     Barska GB12166 Fitness Watch with Heart Rate M...  $99.99    \n",
       "freq                                                    1       16   \n",
       "\n",
       "       Body.Location Category Company.Name             Company.URL  \\\n",
       "count            582      571          574                     569   \n",
       "unique             9        8          145                     142   \n",
       "top            Wrist  Fitness       Garmin  http://www.garmin.com/   \n",
       "freq             345      215           65                      65   \n",
       "\n",
       "           Company...Mapping.Location Company...City Company...U.S..State  \\\n",
       "count                             580            580                  415   \n",
       "unique                            108            107                   22   \n",
       "top     Olathe, Kansas, United States         Olathe           California   \n",
       "freq                               65             65                  152   \n",
       "\n",
       "       Company...Country          Source  \\\n",
       "count                569             582   \n",
       "unique                14               2   \n",
       "top        United States  Google Results   \n",
       "freq                 415             370   \n",
       "\n",
       "                                                     Link  \\\n",
       "count                                                 582   \n",
       "unique                                                582   \n",
       "top     https://www.google.com/shopping/product/104462...   \n",
       "freq                                                    1   \n",
       "\n",
       "                                                    Image  \n",
       "count                                                 582  \n",
       "unique                                                564  \n",
       "top     data:image/jpeg;base64,/9j/4AAQSkZJRgABAQAAAQA...  \n",
       "freq                                                    3  "
      ]
     },
     "execution_count": 7,
     "metadata": {},
     "output_type": "execute_result"
    }
   ],
   "source": [
    "df.describe(include='O')"
   ]
  },
  {
   "cell_type": "code",
   "execution_count": 79,
   "id": "4be0e0e3",
   "metadata": {},
   "outputs": [
    {
     "name": "stdout",
     "output_type": "stream",
     "text": [
      "<class 'pandas.core.frame.DataFrame'>\n",
      "RangeIndex: 582 entries, 0 to 581\n",
      "Data columns (total 15 columns):\n",
      " #   Column                      Non-Null Count  Dtype  \n",
      "---  ------                      --------------  -----  \n",
      " 0   Name                        582 non-null    object \n",
      " 1   Price                       370 non-null    object \n",
      " 2   Body.Location               582 non-null    object \n",
      " 3   Category                    571 non-null    object \n",
      " 4   Company.Name                574 non-null    object \n",
      " 5   Company.URL                 569 non-null    object \n",
      " 6   Company...Mapping.Location  580 non-null    object \n",
      " 7   Company...City              580 non-null    object \n",
      " 8   Company...U.S..State        415 non-null    object \n",
      " 9   Company...Country           569 non-null    object \n",
      " 10  Source                      582 non-null    object \n",
      " 11  Link                        582 non-null    object \n",
      " 12  Duplicates.note.1           0 non-null      float64\n",
      " 13  id                          582 non-null    int64  \n",
      " 14  Image                       582 non-null    object \n",
      "dtypes: float64(1), int64(1), object(13)\n",
      "memory usage: 68.3+ KB\n"
     ]
    }
   ],
   "source": [
    "df.info()"
   ]
  },
  {
   "cell_type": "markdown",
   "id": "e73c5d44",
   "metadata": {},
   "source": [
    "### Price Column"
   ]
  },
  {
   "cell_type": "code",
   "execution_count": 20,
   "id": "7ce4a255",
   "metadata": {},
   "outputs": [],
   "source": [
    "df[\"Price\"] =df[\"Price\"].astype('str')"
   ]
  },
  {
   "cell_type": "code",
   "execution_count": 29,
   "id": "ee25cbff",
   "metadata": {},
   "outputs": [
    {
     "data": {
      "text/plain": [
       "0      49.99 \n",
       "1      24.99 \n",
       "2      12.99 \n",
       "3      67.62 \n",
       "4      39.99 \n",
       "        ...  \n",
       "577       39 \n",
       "578      850 \n",
       "579    24.99 \n",
       "580       nan\n",
       "581       nan\n",
       "Name: Price, Length: 582, dtype: object"
      ]
     },
     "execution_count": 29,
     "metadata": {},
     "output_type": "execute_result"
    }
   ],
   "source": [
    "#remove the $ using the .replace() method\n",
    "df['Price'] = df['Price'].map(lambda x: x.replace('$',''))\n",
    "df['Price']"
   ]
  },
  {
   "cell_type": "code",
   "execution_count": 38,
   "id": "94c19d77",
   "metadata": {},
   "outputs": [
    {
     "data": {
      "text/plain": [
       "0      49.99\n",
       "1      24.99\n",
       "2      12.99\n",
       "3      67.62\n",
       "4      39.99\n",
       "       ...  \n",
       "577       39\n",
       "578      850\n",
       "579    24.99\n",
       "580      nan\n",
       "581      nan\n",
       "Name: Price, Length: 582, dtype: object"
      ]
     },
     "execution_count": 38,
     "metadata": {},
     "output_type": "execute_result"
    }
   ],
   "source": [
    "#remove the comma(',') using the .replace() method\n",
    "df['Price'] = df['Price'].map(lambda x: x.replace(',',''))\n",
    "df['Price']"
   ]
  },
  {
   "cell_type": "code",
   "execution_count": null,
   "id": "0b8a017e",
   "metadata": {},
   "outputs": [],
   "source": [
    "#remove the \" \" using the .replace() method\n",
    "df['Price'] = df['Price'].map(lambda x: x.replace(' ',''))\n",
    "df['Price']"
   ]
  },
  {
   "cell_type": "code",
   "execution_count": 36,
   "id": "806cfc32",
   "metadata": {},
   "outputs": [
    {
     "data": {
      "text/plain": [
       "0      49.99\n",
       "1      24.99\n",
       "2      12.99\n",
       "3      67.62\n",
       "4      39.99\n",
       "       ...  \n",
       "577       39\n",
       "578      850\n",
       "579    24.99\n",
       "580      nan\n",
       "581      nan\n",
       "Name: Price, Length: 582, dtype: object"
      ]
     },
     "execution_count": 36,
     "metadata": {},
     "output_type": "execute_result"
    }
   ],
   "source": [
    "#remove the (refurbished) using the .replace() method\n",
    "df['Price'] = df['Price'].map(lambda x: x.replace('(refurbished)',''))\n",
    "df['Price']"
   ]
  },
  {
   "cell_type": "code",
   "execution_count": 40,
   "id": "76e7c2ba",
   "metadata": {},
   "outputs": [],
   "source": [
    "df[\"Price\"] =df[\"Price\"].astype(float)"
   ]
  },
  {
   "cell_type": "code",
   "execution_count": 41,
   "id": "e7e0e7f6",
   "metadata": {},
   "outputs": [
    {
     "name": "stdout",
     "output_type": "stream",
     "text": [
      "<class 'pandas.core.frame.DataFrame'>\n",
      "RangeIndex: 582 entries, 0 to 581\n",
      "Data columns (total 15 columns):\n",
      " #   Column                      Non-Null Count  Dtype  \n",
      "---  ------                      --------------  -----  \n",
      " 0   Name                        582 non-null    object \n",
      " 1   Price                       370 non-null    float64\n",
      " 2   Body.Location               582 non-null    object \n",
      " 3   Category                    571 non-null    object \n",
      " 4   Company.Name                574 non-null    object \n",
      " 5   Company.URL                 569 non-null    object \n",
      " 6   Company...Mapping.Location  580 non-null    object \n",
      " 7   Company...City              580 non-null    object \n",
      " 8   Company...U.S..State        415 non-null    object \n",
      " 9   Company...Country           569 non-null    object \n",
      " 10  Source                      582 non-null    object \n",
      " 11  Link                        582 non-null    object \n",
      " 12  Duplicates.note.1           0 non-null      float64\n",
      " 13  id                          582 non-null    int64  \n",
      " 14  Image                       582 non-null    object \n",
      "dtypes: float64(2), int64(1), object(12)\n",
      "memory usage: 68.3+ KB\n"
     ]
    }
   ],
   "source": [
    "df.info()"
   ]
  },
  {
   "cell_type": "code",
   "execution_count": 44,
   "id": "f6d16836",
   "metadata": {},
   "outputs": [
    {
     "data": {
      "text/plain": [
       "212"
      ]
     },
     "execution_count": 44,
     "metadata": {},
     "output_type": "execute_result"
    }
   ],
   "source": [
    "df[\"Price\"].isna().sum()"
   ]
  },
  {
   "cell_type": "markdown",
   "id": "07f7bd93",
   "metadata": {},
   "source": [
    "**Almost 50% of the Price column comprises of null values!!!.If more than 50% of the values in a dataset are null values, this could indicate that there may be some issues with data collection or data processing. It's possible that some data points were not captured or were lost during data collection, or that there were errors in the data entry process. As a result, it's important to carefully consider the quality and completeness of the data before drawing any conclusions or making any decisions based on the dataset.**"
   ]
  },
  {
   "cell_type": "markdown",
   "id": "5393a80b",
   "metadata": {},
   "source": [
    "### Body.Location"
   ]
  },
  {
   "cell_type": "code",
   "execution_count": 80,
   "id": "82ce19af",
   "metadata": {},
   "outputs": [
    {
     "data": {
      "text/plain": [
       "Wrist    345\n",
       "Head      97\n",
       "Waist     56\n",
       "Chest     25\n",
       "Neck      19\n",
       "Torso     16\n",
       "Arms      11\n",
       "Hands      9\n",
       "Feet       4\n",
       "Name: Body.Location, dtype: int64"
      ]
     },
     "execution_count": 80,
     "metadata": {},
     "output_type": "execute_result"
    }
   ],
   "source": [
    "df[\"Body.Location\"].value_counts()"
   ]
  },
  {
   "cell_type": "code",
   "execution_count": 47,
   "id": "975126eb",
   "metadata": {},
   "outputs": [
    {
     "data": {
      "image/png": "[encoded data removed]",
      "text/plain": [
       "<Figure size 640x480 with 1 Axes>"
      ]
     },
     "metadata": {},
     "output_type": "display_data"
    }
   ],
   "source": [
    "with plt.style.context(\"fivethirtyeight\"):\n",
    "    ax = plt.hist(df[\"Body.Location\"].sort_values())\n",
    "#work on fig size for this and one below"
   ]
  },
  {
   "cell_type": "markdown",
   "id": "cbef4c0a",
   "metadata": {},
   "source": [
    "**The \"Body.Location\" column in the Wearables-DFE.csv dataset likely refers to the part of the body where the wearable device is intended to be worn. For businesses looking to understand the wearable technology market , the wrist, head, and waist are some of the most popular body locations for wearable technology with wrist being the most popular. But again the dataset is very small**"
   ]
  },
  {
   "cell_type": "markdown",
   "id": "e5b0bfd8",
   "metadata": {},
   "source": [
    "### Category"
   ]
  },
  {
   "cell_type": "code",
   "execution_count": 56,
   "id": "24f4ca35",
   "metadata": {},
   "outputs": [
    {
     "data": {
      "text/plain": [
       "Fitness               215\n",
       "Lifestyle             185\n",
       "Entertainment         102\n",
       "Medical                43\n",
       "Pets and Animals       15\n",
       "Gaming                  5\n",
       "Lifestyle, Fitness      3\n",
       "Industrial              3\n",
       "Name: Category, dtype: int64"
      ]
     },
     "execution_count": 56,
     "metadata": {},
     "output_type": "execute_result"
    }
   ],
   "source": [
    "df[\"Category\"].value_counts()"
   ]
  },
  {
   "cell_type": "code",
   "execution_count": 66,
   "id": "de012b7c",
   "metadata": {},
   "outputs": [
    {
     "data": {
      "image/png": "[encoded data removed]",
      "text/plain": [
       "<Figure size 640x480 with 1 Axes>"
      ]
     },
     "metadata": {},
     "output_type": "display_data"
    }
   ],
   "source": [
    "with plt.style.context(\"fivethirtyeight\"):\n",
    "    sns.countplot(x='Category', data=df)\n",
    "    plt.xticks(rotation=90)\n",
    "    plt.yticks(fontsize=15)\n",
    "    ax.set_xlabel('Category',fontsize=20,fontweight='bold')\n",
    "    ax.set_ylabel('Count',fontsize=20,fontweight='bold')\n",
    "    plt.show()"
   ]
  },
  {
   "cell_type": "markdown",
   "id": "a8265c87",
   "metadata": {},
   "source": [
    "**The category of each wearable technology product gives insights into the applications of the technology. For example, the high number of products in the Fitness category suggests that there may be a strong demand for wearable technology in the fitness and wellness space.Also the presence of categories like Medical and Industrial suggests that wearable technology is also being used in more specialized applications beyond consumer use cases.**"
   ]
  },
  {
   "cell_type": "code",
   "execution_count": 50,
   "id": "4ddb5e8d",
   "metadata": {},
   "outputs": [
    {
     "data": {
      "text/plain": [
       "11"
      ]
     },
     "execution_count": 50,
     "metadata": {},
     "output_type": "execute_result"
    }
   ],
   "source": [
    "df[\"Category\"].isnull().sum()"
   ]
  },
  {
   "cell_type": "code",
   "execution_count": 58,
   "id": "81b32462",
   "metadata": {},
   "outputs": [
    {
     "data": {
      "text/html": [
       "<div>\n",
       "<style scoped>\n",
       "    .dataframe tbody tr th:only-of-type {\n",
       "        vertical-align: middle;\n",
       "    }\n",
       "\n",
       "    .dataframe tbody tr th {\n",
       "        vertical-align: top;\n",
       "    }\n",
       "\n",
       "    .dataframe thead th {\n",
       "        text-align: right;\n",
       "    }\n",
       "</style>\n",
       "<table border=\"1\" class=\"dataframe\">\n",
       "  <thead>\n",
       "    <tr style=\"text-align: right;\">\n",
       "      <th></th>\n",
       "      <th>Name</th>\n",
       "      <th>Price</th>\n",
       "      <th>Body.Location</th>\n",
       "      <th>Company.Name</th>\n",
       "      <th>Company.URL</th>\n",
       "      <th>Company...Mapping.Location</th>\n",
       "      <th>Company...City</th>\n",
       "      <th>Company...U.S..State</th>\n",
       "      <th>Company...Country</th>\n",
       "      <th>Source</th>\n",
       "      <th>Link</th>\n",
       "      <th>Duplicates.note.1</th>\n",
       "      <th>id</th>\n",
       "      <th>Image</th>\n",
       "    </tr>\n",
       "    <tr>\n",
       "      <th>Category</th>\n",
       "      <th></th>\n",
       "      <th></th>\n",
       "      <th></th>\n",
       "      <th></th>\n",
       "      <th></th>\n",
       "      <th></th>\n",
       "      <th></th>\n",
       "      <th></th>\n",
       "      <th></th>\n",
       "      <th></th>\n",
       "      <th></th>\n",
       "      <th></th>\n",
       "      <th></th>\n",
       "      <th></th>\n",
       "    </tr>\n",
       "  </thead>\n",
       "  <tbody>\n",
       "    <tr>\n",
       "      <th>Entertainment</th>\n",
       "      <td>102</td>\n",
       "      <td>29</td>\n",
       "      <td>102</td>\n",
       "      <td>100</td>\n",
       "      <td>95</td>\n",
       "      <td>100</td>\n",
       "      <td>100</td>\n",
       "      <td>74</td>\n",
       "      <td>95</td>\n",
       "      <td>102</td>\n",
       "      <td>102</td>\n",
       "      <td>0</td>\n",
       "      <td>102</td>\n",
       "      <td>102</td>\n",
       "    </tr>\n",
       "    <tr>\n",
       "      <th>Fitness</th>\n",
       "      <td>215</td>\n",
       "      <td>179</td>\n",
       "      <td>215</td>\n",
       "      <td>214</td>\n",
       "      <td>214</td>\n",
       "      <td>215</td>\n",
       "      <td>215</td>\n",
       "      <td>184</td>\n",
       "      <td>214</td>\n",
       "      <td>215</td>\n",
       "      <td>215</td>\n",
       "      <td>0</td>\n",
       "      <td>215</td>\n",
       "      <td>215</td>\n",
       "    </tr>\n",
       "    <tr>\n",
       "      <th>Gaming</th>\n",
       "      <td>5</td>\n",
       "      <td>1</td>\n",
       "      <td>5</td>\n",
       "      <td>5</td>\n",
       "      <td>5</td>\n",
       "      <td>5</td>\n",
       "      <td>5</td>\n",
       "      <td>5</td>\n",
       "      <td>5</td>\n",
       "      <td>5</td>\n",
       "      <td>5</td>\n",
       "      <td>0</td>\n",
       "      <td>5</td>\n",
       "      <td>5</td>\n",
       "    </tr>\n",
       "    <tr>\n",
       "      <th>Industrial</th>\n",
       "      <td>3</td>\n",
       "      <td>2</td>\n",
       "      <td>3</td>\n",
       "      <td>3</td>\n",
       "      <td>3</td>\n",
       "      <td>3</td>\n",
       "      <td>3</td>\n",
       "      <td>2</td>\n",
       "      <td>3</td>\n",
       "      <td>3</td>\n",
       "      <td>3</td>\n",
       "      <td>0</td>\n",
       "      <td>3</td>\n",
       "      <td>3</td>\n",
       "    </tr>\n",
       "    <tr>\n",
       "      <th>Lifestyle</th>\n",
       "      <td>185</td>\n",
       "      <td>121</td>\n",
       "      <td>185</td>\n",
       "      <td>182</td>\n",
       "      <td>182</td>\n",
       "      <td>185</td>\n",
       "      <td>185</td>\n",
       "      <td>92</td>\n",
       "      <td>182</td>\n",
       "      <td>185</td>\n",
       "      <td>185</td>\n",
       "      <td>0</td>\n",
       "      <td>185</td>\n",
       "      <td>185</td>\n",
       "    </tr>\n",
       "    <tr>\n",
       "      <th>Lifestyle, Fitness</th>\n",
       "      <td>3</td>\n",
       "      <td>3</td>\n",
       "      <td>3</td>\n",
       "      <td>3</td>\n",
       "      <td>3</td>\n",
       "      <td>3</td>\n",
       "      <td>3</td>\n",
       "      <td>2</td>\n",
       "      <td>3</td>\n",
       "      <td>3</td>\n",
       "      <td>3</td>\n",
       "      <td>0</td>\n",
       "      <td>3</td>\n",
       "      <td>3</td>\n",
       "    </tr>\n",
       "    <tr>\n",
       "      <th>Medical</th>\n",
       "      <td>43</td>\n",
       "      <td>22</td>\n",
       "      <td>43</td>\n",
       "      <td>42</td>\n",
       "      <td>42</td>\n",
       "      <td>43</td>\n",
       "      <td>43</td>\n",
       "      <td>37</td>\n",
       "      <td>42</td>\n",
       "      <td>43</td>\n",
       "      <td>43</td>\n",
       "      <td>0</td>\n",
       "      <td>43</td>\n",
       "      <td>43</td>\n",
       "    </tr>\n",
       "    <tr>\n",
       "      <th>Pets and Animals</th>\n",
       "      <td>15</td>\n",
       "      <td>3</td>\n",
       "      <td>15</td>\n",
       "      <td>15</td>\n",
       "      <td>15</td>\n",
       "      <td>15</td>\n",
       "      <td>15</td>\n",
       "      <td>12</td>\n",
       "      <td>15</td>\n",
       "      <td>15</td>\n",
       "      <td>15</td>\n",
       "      <td>0</td>\n",
       "      <td>15</td>\n",
       "      <td>15</td>\n",
       "    </tr>\n",
       "  </tbody>\n",
       "</table>\n",
       "</div>"
      ],
      "text/plain": [
       "                    Name  Price  Body.Location  Company.Name  Company.URL  \\\n",
       "Category                                                                    \n",
       "Entertainment        102     29            102           100           95   \n",
       "Fitness              215    179            215           214          214   \n",
       "Gaming                 5      1              5             5            5   \n",
       "Industrial             3      2              3             3            3   \n",
       "Lifestyle            185    121            185           182          182   \n",
       "Lifestyle, Fitness     3      3              3             3            3   \n",
       "Medical               43     22             43            42           42   \n",
       "Pets and Animals      15      3             15            15           15   \n",
       "\n",
       "                    Company...Mapping.Location  Company...City  \\\n",
       "Category                                                         \n",
       "Entertainment                              100             100   \n",
       "Fitness                                    215             215   \n",
       "Gaming                                       5               5   \n",
       "Industrial                                   3               3   \n",
       "Lifestyle                                  185             185   \n",
       "Lifestyle, Fitness                           3               3   \n",
       "Medical                                     43              43   \n",
       "Pets and Animals                            15              15   \n",
       "\n",
       "                    Company...U.S..State  Company...Country  Source  Link  \\\n",
       "Category                                                                    \n",
       "Entertainment                         74                 95     102   102   \n",
       "Fitness                              184                214     215   215   \n",
       "Gaming                                 5                  5       5     5   \n",
       "Industrial                             2                  3       3     3   \n",
       "Lifestyle                             92                182     185   185   \n",
       "Lifestyle, Fitness                     2                  3       3     3   \n",
       "Medical                               37                 42      43    43   \n",
       "Pets and Animals                      12                 15      15    15   \n",
       "\n",
       "                    Duplicates.note.1   id  Image  \n",
       "Category                                           \n",
       "Entertainment                       0  102    102  \n",
       "Fitness                             0  215    215  \n",
       "Gaming                              0    5      5  \n",
       "Industrial                          0    3      3  \n",
       "Lifestyle                           0  185    185  \n",
       "Lifestyle, Fitness                  0    3      3  \n",
       "Medical                             0   43     43  \n",
       "Pets and Animals                    0   15     15  "
      ]
     },
     "execution_count": 58,
     "metadata": {},
     "output_type": "execute_result"
    }
   ],
   "source": [
    "df.groupby('Category').count()"
   ]
  },
  {
   "cell_type": "markdown",
   "id": "476b25ba",
   "metadata": {},
   "source": [
    "### Country"
   ]
  },
  {
   "cell_type": "code",
   "execution_count": 70,
   "id": "9233e008",
   "metadata": {},
   "outputs": [
    {
     "data": {
      "text/plain": [
       "United States     415\n",
       "Japan              44\n",
       "South Korea        41\n",
       "China              14\n",
       "Taiwan             10\n",
       "Canada              9\n",
       "Austria             8\n",
       "France              7\n",
       "Netherlands         6\n",
       "United Kingdom      6\n",
       "Sweden              4\n",
       "Finland             3\n",
       "Italy               1\n",
       "Singapore           1\n",
       "Name: Company...Country, dtype: int64"
      ]
     },
     "execution_count": 70,
     "metadata": {},
     "output_type": "execute_result"
    }
   ],
   "source": [
    "df[\"Company...Country\"].value_counts()"
   ]
  },
  {
   "cell_type": "code",
   "execution_count": 68,
   "id": "ad54d59f",
   "metadata": {},
   "outputs": [
    {
     "data": {
      "image/png": "[encoded data removed]",
      "text/plain": [
       "<Figure size 640x480 with 1 Axes>"
      ]
     },
     "metadata": {},
     "output_type": "display_data"
    }
   ],
   "source": [
    "with plt.style.context(\"fivethirtyeight\"):\n",
    "    sns.countplot(x='Company...Country', data=df)\n",
    "    plt.xticks(rotation=90)\n",
    "    plt.yticks(fontsize=15)\n",
    "    ax.set_xlabel('Company...Country',fontsize=20,fontweight='bold')\n",
    "    ax.set_ylabel('Count',fontsize=20,fontweight='bold')\n",
    "    plt.show()"
   ]
  },
  {
   "cell_type": "markdown",
   "id": "0ca1f775",
   "metadata": {},
   "source": [
    "**Based on the country column of the wearable technology dataset, it appears that the majority of wearable technology products in the dataset are produced in the United States, with a total count of 415 products. The next highest producers are Japan and South Korea, with 44 and 41 products respectively. China, Taiwan, Canada, Austria, France, the Netherlands, and the United Kingdom are also represented in the dataset, although they produce significantly fewer wearable technology products than the top three countries.**"
   ]
  },
  {
   "cell_type": "code",
   "execution_count": null,
   "id": "cdb416a3",
   "metadata": {},
   "outputs": [],
   "source": []
  },
  {
   "cell_type": "code",
   "execution_count": null,
   "id": "89e626d8",
   "metadata": {},
   "outputs": [],
   "source": []
  }
 ],
 "metadata": {
  "kernelspec": {
   "display_name": "Python 3 (ipykernel)",
   "language": "python",
   "name": "python3"
  },
  "language_info": {
   "codemirror_mode": {
    "name": "ipython",
    "version": 3
   },
   "file_extension": ".py",
   "mimetype": "text/x-python",
   "name": "python",
   "nbconvert_exporter": "python",
   "pygments_lexer": "ipython3",
   "version": "3.9.7"
  }
 },
 "nbformat": 4,
 "nbformat_minor": 5
}
